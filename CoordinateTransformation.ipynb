{
 "cells": [
  {
   "cell_type": "markdown",
   "metadata": {},
   "source": [
    "# Translating Polygon Around Sphere While Preserving Area"
   ]
  },
  {
   "cell_type": "markdown",
   "metadata": {},
   "source": [
    "### The Code"
   ]
  },
  {
   "cell_type": "code",
   "execution_count": 1,
   "metadata": {},
   "outputs": [],
   "source": [
    "%matplotlib inline"
   ]
  },
  {
   "cell_type": "code",
   "execution_count": 2,
   "metadata": {},
   "outputs": [],
   "source": [
    "import geopandas\n",
    "import math\n",
    "import shapely"
   ]
  },
  {
   "cell_type": "code",
   "execution_count": 3,
   "metadata": {},
   "outputs": [],
   "source": [
    "CAMP_BOUNDARY_FILEPATH = \"data/ShapeFile/CampBoundary\"\n",
    "SEATTLE_COORDS = (-122.31559, 47.663488)"
   ]
  },
  {
   "cell_type": "code",
   "execution_count": 4,
   "metadata": {},
   "outputs": [],
   "source": [
    "camp_boundary = geopandas.read_file(CAMP_BOUNDARY_FILEPATH)"
   ]
  },
  {
   "cell_type": "code",
   "execution_count": 5,
   "metadata": {},
   "outputs": [],
   "source": [
    "def move_polygon_across_spheres_surface(src_geodataframe, dest_centroid_coordinates):\n",
    "    src_polygon_coordinates = list(src_geodataframe.geometry[0].exterior.coords)\n",
    "    src_centroid_coordinates = list(src_geodataframe.centroid[0].coords)[0]\n",
    "    \n",
    "    src_centroid_long, src_centroid_lat = src_centroid_coordinates\n",
    "    dest_centroid_long, dest_centroid_lat = dest_centroid_coordinates\n",
    "        \n",
    "    longitudinal_shift = dest_centroid_long - src_centroid_long\n",
    "    latitudinal_shift = dest_centroid_lat - src_centroid_lat\n",
    "    \n",
    "    dest_polygon_coordinates = []\n",
    "    for src_long, src_lat in src_polygon_coordinates:\n",
    "        west_of_centroid_long = src_long < src_centroid_long  \n",
    "        dist_from_centroid_long = abs(src_long - src_centroid_long)\n",
    "        \n",
    "        dest_lat = src_lat + latitudinal_shift\n",
    "        \n",
    "        src_long_radians = math.radians(src_long)\n",
    "        src_lat_radians = math.radians(src_lat)\n",
    "        dist_from_centroid_long_radians = math.radians(dist_from_centroid_long)\n",
    "        dest_lat_radians = math.radians(dest_lat)\n",
    "                \n",
    "        a = math.sin(dest_lat_radians)**2\n",
    "        b1 = math.sin(src_lat_radians)**2\n",
    "        b2 = math.cos(src_lat_radians)**2 * math.cos(dist_from_centroid_long_radians)\n",
    "        b = b1 + b2\n",
    "        c = math.cos(dest_lat_radians)**2\n",
    "        \n",
    "        new_dist_from_centroid_long = math.degrees(math.acos((b - a)/c))\n",
    "        delta_dist_from_centroid_long = new_dist_from_centroid_long - dist_from_centroid_long\n",
    "        \n",
    "        dest_long = src_long + longitudinal_shift\n",
    "        if west_of_centroid_long:\n",
    "            dest_long -= delta_dist_from_centroid_long\n",
    "            if dest_long < -180:\n",
    "                dest_long += 360\n",
    "        else:\n",
    "            dest_long += delta_dist_from_centroid_long\n",
    "            if dest_long > +180:\n",
    "                dest_long -= 360\n",
    "            \n",
    "        dest_polygon_coordinates.append((dest_long, dest_lat))\n",
    "        \n",
    "    dest_polygon = shapely.geometry.Polygon(dest_polygon_coordinates)\n",
    "    dest_geodataframe = geopandas.GeoDataFrame(geometry=[dest_polygon])\n",
    "    \n",
    "    return dest_geodataframe"
   ]
  },
  {
   "cell_type": "code",
   "execution_count": 6,
   "metadata": {},
   "outputs": [],
   "source": [
    "home_boundary = move_polygon_across_spheres_surface(camp_boundary, SEATTLE_COORDS)"
   ]
  },
  {
   "cell_type": "code",
   "execution_count": 7,
   "metadata": {},
   "outputs": [
    {
     "data": {
      "text/plain": [
       "<matplotlib.axes._subplots.AxesSubplot at 0x10c30f8d0>"
      ]
     },
     "execution_count": 7,
     "metadata": {},
     "output_type": "execute_result"
    },
    {
     "data": {
      "image/png": "[encoded data removed]",
      "text/plain": [
       "<Figure size 432x288 with 1 Axes>"
      ]
     },
     "metadata": {
      "needs_background": "light"
     },
     "output_type": "display_data"
    }
   ],
   "source": [
    "camp_boundary.plot()"
   ]
  },
  {
   "cell_type": "code",
   "execution_count": 8,
   "metadata": {},
   "outputs": [
    {
     "data": {
      "text/plain": [
       "<matplotlib.axes._subplots.AxesSubplot at 0x117673b00>"
      ]
     },
     "execution_count": 8,
     "metadata": {},
     "output_type": "execute_result"
    },
    {
     "data": {
      "image/png": "[encoded data removed]",
      "text/plain": [
       "<Figure size 432x288 with 1 Axes>"
      ]
     },
     "metadata": {
      "needs_background": "light"
     },
     "output_type": "display_data"
    }
   ],
   "source": [
    "home_boundary.plot()"
   ]
  },
  {
   "cell_type": "markdown",
   "metadata": {},
   "source": [
    "#### Juba refugee camp outline on Google Earth"
   ]
  },
  {
   "cell_type": "markdown",
   "metadata": {},
   "source": [
    "![Juba Refugee Camp](img/juba_refugee_camp.jpg)"
   ]
  },
  {
   "cell_type": "markdown",
   "metadata": {},
   "source": [
    "#### Juba refugee camp outline over University District on Google Earth"
   ]
  },
  {
   "cell_type": "markdown",
   "metadata": {},
   "source": [
    "![My House](img/my_house.jpg)"
   ]
  },
  {
   "cell_type": "markdown",
   "metadata": {},
   "source": [
    "### The Simple Web Application"
   ]
  },
  {
   "cell_type": "markdown",
   "metadata": {},
   "source": [
    "[https://ryanbald.github.io/](https://ryanbald.github.io/)"
   ]
  },
  {
   "cell_type": "markdown",
   "metadata": {},
   "source": [
    "### The Math"
   ]
  },
  {
   "cell_type": "markdown",
   "metadata": {},
   "source": [
    "#### Longitudinal Shift"
   ]
  },
  {
   "cell_type": "markdown",
   "metadata": {},
   "source": [
    "<img src=\"img/east_west_transform.jpg\" alt=\"East-West Transform\" width=\"50%\"/>"
   ]
  },
  {
   "cell_type": "markdown",
   "metadata": {},
   "source": [
    "#### Latitudinal Shift"
   ]
  },
  {
   "cell_type": "markdown",
   "metadata": {},
   "source": [
    "<img src=\"img/south_north_transform.jpg\" alt=\"South-North Transform\" width=\"50%\"/>"
   ]
  },
  {
   "cell_type": "markdown",
   "metadata": {},
   "source": [
    "[Great-circle distance](https://en.wikipedia.org/wiki/Great-circle_distance)"
   ]
  },
  {
   "cell_type": "markdown",
   "metadata": {},
   "source": [
    "$\\phi_{1}$ = source latitude\n",
    "\n",
    "$\\Delta\\lambda_{1}$ = difference between source longitude and central longitude of source polygon\n",
    "\n",
    "$\\phi_{2}$ = target latitude\n",
    "\n",
    "$\\Delta\\lambda_{2}$ = difference between target longitude and central longitude of target polygon"
   ]
  },
  {
   "cell_type": "markdown",
   "metadata": {},
   "source": [
    "<img src=\"img/variable_labels.jpg\" alt=\"Variable Labels\" width=\"50%\"/>"
   ]
  },
  {
   "cell_type": "markdown",
   "metadata": {},
   "source": [
    "$sin(\\phi_{1})^{2} + cos(\\phi_{1})^{2} \\cdot cos(\\Delta\\lambda_{1}) = sin(\\phi_{2})^{2} + cos(\\phi_{2})^{2} \\cdot cos(\\Delta\\lambda_{2})$\n",
    "\n",
    "$b = a + c \\cdot cos(\\Delta\\lambda_{2})$\n",
    "\n",
    "$\\Delta\\lambda_{2} = cos^{-1}(\\frac{b - a}{c})$"
   ]
  }
 ],
 "metadata": {
  "kernelspec": {
   "display_name": "Python [default]",
   "language": "python",
   "name": "python3"
  },
  "language_info": {
   "codemirror_mode": {
    "name": "ipython",
    "version": 3
   },
   "file_extension": ".py",
   "mimetype": "text/x-python",
   "name": "python",
   "nbconvert_exporter": "python",
   "pygments_lexer": "ipython3",
   "version": "3.6.5"
  }
 },
 "nbformat": 4,
 "nbformat_minor": 2
}
